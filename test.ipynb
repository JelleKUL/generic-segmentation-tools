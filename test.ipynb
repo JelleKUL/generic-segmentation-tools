{
 "cells": [
  {
   "cell_type": "code",
   "execution_count": 6,
   "metadata": {},
   "outputs": [
    {
     "name": "stdout",
     "output_type": "stream",
     "text": [
      "input\n"
     ]
    }
   ],
   "source": [
    "import open3d as o3d\n",
    "import numpy as np\n",
    "import segmentationtools\n",
    "\n",
    "print('input')\n",
    "mesh = o3d.geometry.TriangleMesh.create_sphere()\n",
    "mesh = mesh.compute_vertex_normals()\n",
    "# fit to unit cube\n",
    "mesh.scale(1 / np.max(mesh.get_max_bound() - mesh.get_min_bound()),\n",
    "           center=mesh.get_center())\n",
    "segmentationtools.show_geometries([mesh])\n"
   ]
  },
  {
   "cell_type": "code",
   "execution_count": 1,
   "metadata": {},
   "outputs": [
    {
     "name": "stdout",
     "output_type": "stream",
     "text": [
      "voxelization\n"
     ]
    },
    {
     "ename": "NameError",
     "evalue": "name 'o3d' is not defined",
     "output_type": "error",
     "traceback": [
      "\u001b[1;31m---------------------------------------------------------------------------\u001b[0m",
      "\u001b[1;31mNameError\u001b[0m                                 Traceback (most recent call last)",
      "Cell \u001b[1;32mIn [1], line 2\u001b[0m\n\u001b[0;32m      1\u001b[0m \u001b[39mprint\u001b[39m(\u001b[39m'\u001b[39m\u001b[39mvoxelization\u001b[39m\u001b[39m'\u001b[39m)\n\u001b[1;32m----> 2\u001b[0m voxel_grid \u001b[39m=\u001b[39m o3d\u001b[39m.\u001b[39mgeometry\u001b[39m.\u001b[39mVoxelGrid\u001b[39m.\u001b[39mcreate_from_triangle_mesh(mesh,\n\u001b[0;32m      3\u001b[0m                                                               voxel_size\u001b[39m=\u001b[39m\u001b[39m0.05\u001b[39m)\n\u001b[0;32m      5\u001b[0m segmentationtools\u001b[39m.\u001b[39mshow_geometries([voxel_grid])\n",
      "\u001b[1;31mNameError\u001b[0m: name 'o3d' is not defined"
     ]
    }
   ],
   "source": [
    "\n",
    "print('voxelization')\n",
    "voxel_grid = o3d.geometry.VoxelGrid.create_from_triangle_mesh(mesh,\n",
    "                                                              voxel_size=0.05)\n",
    "\n",
    "segmentationtools.show_geometries([voxel_grid])"
   ]
  }
 ],
 "metadata": {
  "kernelspec": {
   "display_name": "Python 3.9.13 ('env': venv)",
   "language": "python",
   "name": "python3"
  },
  "language_info": {
   "codemirror_mode": {
    "name": "ipython",
    "version": 3
   },
   "file_extension": ".py",
   "mimetype": "text/x-python",
   "name": "python",
   "nbconvert_exporter": "python",
   "pygments_lexer": "ipython3",
   "version": "3.9.13"
  },
  "orig_nbformat": 4,
  "vscode": {
   "interpreter": {
    "hash": "63e16adb41d845018f453310395f8a2bb790f6a07878dc16c794e59e416002f2"
   }
  }
 },
 "nbformat": 4,
 "nbformat_minor": 2
}
