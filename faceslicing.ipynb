{
 "cells": [
  {
   "cell_type": "markdown",
   "metadata": {},
   "source": [
    "# Face Slicing\n",
    "Exploring how mesh faces can be cut along edges and preserve the uv's"
   ]
  },
  {
   "cell_type": "markdown",
   "metadata": {},
   "source": [
    "## Workflow\n",
    "\n",
    "1) get the parametric edges on the texture map\n",
    "2) foreach triangle in the mesh, check if it slices the line\n",
    "3) find the slice points on the triangle and interpolate all the values\n",
    "4) make a new mesh with the new faces\n",
    "\n",
    "\n",
    "### Data Format\n",
    "All line segments are 2d numpy arrays \n",
    "`[[x,y],[x,y]]`"
   ]
  },
  {
   "cell_type": "markdown",
   "metadata": {},
   "source": [
    "## Import the mesh\n",
    "finding the slice points of the fave based on its uv coordinates"
   ]
  },
  {
   "cell_type": "code",
   "execution_count": null,
   "metadata": {},
   "outputs": [],
   "source": [
    "# Import the mesh\n",
    "import open3d as o3d\n",
    "import segmentationtools as st\n",
    "import numpy as np\n",
    "from matplotlib import pyplot as plt\n",
    "\n",
    "meshPath = \"localfiles/triangle.obj\"\n",
    "mesh = o3d.io.read_triangle_mesh(meshPath, True)"
   ]
  },
  {
   "cell_type": "code",
   "execution_count": null,
   "metadata": {},
   "outputs": [],
   "source": [
    "st.show_geometries([mesh])"
   ]
  },
  {
   "cell_type": "markdown",
   "metadata": {},
   "source": [
    "## Get The Mesh Texture\n",
    "The image texture of the mesh is stored in the textures of the 3d mesh, currenty only working for meshes with one image texture"
   ]
  },
  {
   "cell_type": "code",
   "execution_count": null,
   "metadata": {},
   "outputs": [],
   "source": [
    "# Get the uv image\n",
    "img = np.asarray(mesh.textures[0])\n",
    "st.show_img(img)"
   ]
  },
  {
   "cell_type": "markdown",
   "metadata": {},
   "source": [
    "## Find the edges in the image\n",
    "Use opencv to perform an edge detection, then use Houghlines to estimate parametric straight lines\n",
    "All functions terurn tuples of 2 points to define the line"
   ]
  },
  {
   "cell_type": "code",
   "execution_count": null,
   "metadata": {},
   "outputs": [],
   "source": [
    "# Detect the edges and points of the intersection\n",
    "lines = st.detect_edges(img)\n",
    "\n",
    "plt.imshow(img)\n",
    "for line in lines:\n",
    "    points = st.get_edge_points(line, img.shape[1], img.shape[0])\n",
    "    print(\"Edge point values: \\n\",points)\n",
    "    plt.plot(*zip(*points),color='orangered', linewidth=3)\n",
    "plt.show()"
   ]
  },
  {
   "cell_type": "markdown",
   "metadata": {},
   "source": [
    "## Plot the triangle UV's\n",
    "After we got the points, we need to get the uv coordinates of the triangle face. and map it to the texture."
   ]
  },
  {
   "cell_type": "code",
   "execution_count": null,
   "metadata": {},
   "outputs": [],
   "source": [
    "# Scale the uv coordinates with the image dimensions\n",
    "uvPoints = np.asarray(mesh.triangle_uvs) * np.array([img.shape[1],img.shape[0]])\n",
    "print(\"UV coordinates: \\n\", uvPoints)\n",
    "plt.imshow(img)\n",
    "plt.fill(*zip(*uvPoints), facecolor='none', edgecolor='orangered', linewidth=1)\n",
    "plt.title('my picture')\n",
    "plt.show()"
   ]
  },
  {
   "cell_type": "markdown",
   "metadata": {},
   "source": [
    "## Finding the intersections of the triangle and the edge line\n",
    "We need to check if each edge intersects with the line and if the intersectionpoint is within the bounds of the 2 line segments"
   ]
  },
  {
   "cell_type": "code",
   "execution_count": null,
   "metadata": {},
   "outputs": [],
   "source": [
    "plt.imshow(img)\n",
    "plt.fill(*zip(*uvPoints), facecolor='none', edgecolor='orangered', linewidth=1)\n",
    "points = st.find_triangle_intersection(uvPoints, st.get_edge_points(lines[0], img.shape[1], img.shape[0]))\n",
    "print(\"The resulting intersection points are: \\n\", points)\n",
    "plt.scatter(*zip(*points))\n",
    "plt.title('my picture')\n",
    "plt.show()"
   ]
  },
  {
   "cell_type": "markdown",
   "metadata": {},
   "source": [
    "## Creating new triangles\n",
    "we need to create new triangles by interpolating the coordinates of the existing triangles\n",
    "- find the edge that has no cut\n",
    "- connect the opposite point of the uncut edge and create a new triangle with the 2 new points\n",
    "- create a second triangle from the uncut edge and a new point linked to the edge point\n",
    "- create the last triangle from the new cut line and the other existing point"
   ]
  },
  {
   "cell_type": "code",
   "execution_count": null,
   "metadata": {},
   "outputs": [],
   "source": [
    "def cut_triangle(edgePoints, line):\n",
    "\n",
    "    # Define the 3 lines the index corresponds to the oposite point\n",
    "    tLine0 = ((edgePoints[1][0], edgePoints[1][1]), (edgePoints[2][0], edgePoints[2][1]))\n",
    "    tLine1 = ((edgePoints[0][0], edgePoints[0][1]), (edgePoints[2][0], edgePoints[2][1]))\n",
    "    tLine2 = ((edgePoints[0][0], edgePoints[0][1]), (edgePoints[1][0], edgePoints[1][1]))\n",
    "    tLines = np.array([tLine0, tLine1, tLine2])\n",
    "\n",
    "    # Loop over the edges and check for intersections\n",
    "    case = -1\n",
    "    points = np.array([None,None,None])\n",
    "\n",
    "    for i in range(3):\n",
    "        points[i] = st.line_segment_intersection(tLines[i], line)\n",
    "        if(np.all(points[i]) == None):\n",
    "            case = i\n",
    "        \n",
    "    if(case == -1): \n",
    "        return [edgePoints]\n",
    "\n",
    "    # Generally, if a line intersects a triangle, it always intersects with exacly 2 edges.\n",
    "    # we can generalize the generation of triangles by looping over the points and starting from the edge that was not cut.\n",
    "    otherP1 = (case + 1) % 3\n",
    "    otherP2 = (case + 2) % 3\n",
    "    newTriangle0 = np.vstack((edgePoints[case], points[otherP2], points[otherP1]))\n",
    "    newTriangle1 = np.vstack((points[otherP1], points[otherP2],edgePoints[otherP1]))\n",
    "    newTriangle2 = np.vstack((edgePoints[otherP1], edgePoints[otherP2],points[otherP1]))\n",
    "\n",
    "    return [newTriangle0, newTriangle1, newTriangle2]\n",
    "\n",
    "    # There are some edge cases where a line intersects with a points\n",
    "    # These still have to be adressed\n",
    "\n",
    "newTriangles = cut_triangle(edgePoints = uvPoints, line = st.get_edge_points(lines[0], img.shape[1], img.shape[0]))"
   ]
  },
  {
   "cell_type": "code",
   "execution_count": null,
   "metadata": {},
   "outputs": [],
   "source": [
    "plt.imshow(img)\n",
    "plt.fill(*zip(*newTriangles[0]), facecolor='none', edgecolor='orangered', linewidth=1)\n",
    "plt.fill(*zip(*newTriangles[1]), facecolor='none', edgecolor='green', linewidth=1)\n",
    "plt.fill(*zip(*newTriangles[2]), facecolor='none', edgecolor='blue', linewidth=1)\n",
    "plt.show()"
   ]
  },
  {
   "cell_type": "markdown",
   "metadata": {},
   "source": [
    "## Creating 3D Triangles\n",
    "\n",
    "I have:\n",
    "- the 3D location of the 3 original points\n",
    "- the 2D location of the original point\n",
    "- the 2D location of the new points\n",
    "\n",
    "I need:\n",
    "- the 3D location of the new points "
   ]
  },
  {
   "cell_type": "code",
   "execution_count": null,
   "metadata": {},
   "outputs": [],
   "source": [
    "# Find the interpolation value 't' of the 2 new points in relation to the existing points\n",
    "print(\"New Triangle UV coordinates: \\n\", newTriangles[0])\n",
    "meshPoints3d = np.asarray(mesh.vertices)\n",
    "print(\"Original Triangle UV coordinates: \\n\", uvPoints)\n",
    "print(\"Original Triangle 3D position: \\n\", np.asarray(meshPoints3d))\n"
   ]
  },
  {
   "cell_type": "code",
   "execution_count": null,
   "metadata": {},
   "outputs": [],
   "source": [
    "ax = plt.axes(projection='3d')\n",
    "\n",
    "ax.plot_trisurf(\n",
    "    *meshPoints3d, \n",
    "    edgecolor=[[0,0,0]], \n",
    "    linewidth=1.0, \n",
    "    alpha=0.5, \n",
    "    shade=False)\n"
   ]
  },
  {
   "cell_type": "code",
   "execution_count": null,
   "metadata": {},
   "outputs": [],
   "source": [
    "\n",
    "def interpolate_coordinate(new2dPoint, og2dPoint1, og2dPoint2, og3dPoint1, og3dpoint2):\n",
    "    val1 = np.interp(new2dPoint[0], [og2dPoint2[0], og2dPoint1[0]], [0,1])#[og3dPoint1[0], og3dpoint2[0]])\n",
    "    val2 = np.interp(new2dPoint[1], [og2dPoint1[1], og2dPoint2[1]], [0,1])#[og3dPoint1[1], og3dpoint2[1]])\n",
    "    return val1, val2\n",
    "\n",
    "def interpolate_coordinate3d(new2dPoint, og2dPoint1, og2dPoint2, og3dPoint1, og3dPoint2):\n",
    "    val1 = np.interp(new2dPoint[0], [og2dPoint2[0], og2dPoint1[0]], [og3dPoint2[0], og3dPoint1[0]])\n",
    "    val2 = np.interp(new2dPoint[1], [og2dPoint1[1], og2dPoint2[1]], [og3dPoint1[1], og3dPoint2[1]])\n",
    "    return val1, val2\n",
    "\n",
    "print((\n",
    "    newTriangles[0][2],\n",
    "    newTriangles[0][0],\n",
    "    newTriangles[2][1]\n",
    "    ))\n",
    "\n",
    "print(interpolate_coordinate(\n",
    "    newTriangles[0][2],\n",
    "    newTriangles[0][0],\n",
    "    newTriangles[2][1],\n",
    "    meshPoints3d[0],\n",
    "    meshPoints3d[2]\n",
    "    ))\n",
    "\n",
    "new3dPoint = interpolate_coordinate3d(\n",
    "    newTriangles[0][2],\n",
    "    newTriangles[0][0],\n",
    "    newTriangles[2][1],\n",
    "    meshPoints3d[0],\n",
    "    meshPoints3d[2]\n",
    "    )\n",
    "print(new3dPoint)\n"
   ]
  }
 ],
 "metadata": {
  "kernelspec": {
   "display_name": "Python 3.9.13 ('env': venv)",
   "language": "python",
   "name": "python3"
  },
  "language_info": {
   "codemirror_mode": {
    "name": "ipython",
    "version": 3
   },
   "file_extension": ".py",
   "mimetype": "text/x-python",
   "name": "python",
   "nbconvert_exporter": "python",
   "pygments_lexer": "ipython3",
   "version": "3.9.13"
  },
  "orig_nbformat": 4,
  "vscode": {
   "interpreter": {
    "hash": "63e16adb41d845018f453310395f8a2bb790f6a07878dc16c794e59e416002f2"
   }
  }
 },
 "nbformat": 4,
 "nbformat_minor": 2
}
